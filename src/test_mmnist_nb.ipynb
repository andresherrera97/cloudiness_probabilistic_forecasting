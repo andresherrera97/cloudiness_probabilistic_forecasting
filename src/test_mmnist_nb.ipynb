{
 "cells": [
  {
   "cell_type": "markdown",
   "id": "316a8acd-bd29-4c8e-be43-779c84505270",
   "metadata": {},
   "source": [
    "# Probabilistic U-Net Testing on the Moving MNIST dataset\n"
   ]
  },
  {
   "cell_type": "code",
   "execution_count": 1,
   "id": "cd0902ea-2ef0-4418-8861-ff093b3cdb2e",
   "metadata": {},
   "outputs": [],
   "source": [
    "%load_ext autoreload\n",
    "%autoreload 2\n"
   ]
  },
  {
   "cell_type": "code",
   "execution_count": 2,
   "id": "b9053fc7-5578-4126-bea7-42f78c281e02",
   "metadata": {},
   "outputs": [],
   "source": [
    "import datetime\n",
    "import torch\n",
    "import models.probabilistic_unet as p_unet\n",
    "import visualization as viz\n",
    "from models import (\n",
    "    MeanStdUNet,\n",
    "    BinClassifierUNet,\n",
    "    QuantileRegressorUNet,\n",
    "    MonteCarloDropoutUNet,\n",
    ")\n",
    "import numpy as np\n",
    "import random\n",
    "from tqdm import tqdm\n",
    "import matplotlib.pyplot as plt\n"
   ]
  },
  {
   "cell_type": "code",
   "execution_count": 3,
   "id": "ebb07a70-fdca-4592-a4ec-2f81ea90527b",
   "metadata": {},
   "outputs": [
    {
     "name": "stdout",
     "output_type": "stream",
     "text": [
      "using device: cuda\n"
     ]
    }
   ],
   "source": [
    "device = torch.device(\"cuda\") if torch.cuda.is_available() else torch.device(\"cpu\")\n",
    "print(f\"using device: {device}\")\n"
   ]
  },
  {
   "cell_type": "markdown",
   "id": "6fcbd089-5c1a-4c08-89be-6eb8081ff8ba",
   "metadata": {},
   "source": [
    "## Load Trained Models\n"
   ]
  },
  {
   "cell_type": "code",
   "execution_count": 4,
   "id": "4849e894-302f-4a84-991a-ce0f20cd75fb",
   "metadata": {},
   "outputs": [
    {
     "name": "stdout",
     "output_type": "stream",
     "text": [
      "Loading Quantile Regressor Checkpoint\n",
      "Done.\n",
      "Loading Bin Classifier Checkpoint\n",
      "Done.\n"
     ]
    }
   ],
   "source": [
    "BATCH_SIZE = 1\n",
    "\n",
    "# Load Quantile Regressor Checkpoint\n",
    "print(\"Loading Quantile Regressor Checkpoint\")\n",
    "qr_unet = QuantileRegressorUNet()\n",
    "\n",
    "qr_unet.create_dataloaders(\n",
    "    path=\"../datasets/moving_mnist_dataset/\",\n",
    "    batch_size=BATCH_SIZE,\n",
    ")\n",
    "\n",
    "qr_unet.load_checkpoint(\n",
    "    checkpoint_path=\"../checkpoints/mmnist/qr/QuantileRegressorUNet_5bins_3frames_16filters_020.pt\",\n",
    "    device=device\n",
    ")\n",
    "print(\"Done.\")\n",
    "\n",
    "\n",
    "# Load Bin Classifier Checkpoint\n",
    "print(\"Loading Bin Classifier Checkpoint\")\n",
    "bin_unet = BinClassifierUNet(device=device)\n",
    "bin_unet.create_dataloaders(\n",
    "    path=\"../datasets/moving_mnist_dataset/\",\n",
    "    batch_size=BATCH_SIZE,\n",
    "    binarization_method=\"integer_classes\",\n",
    ")\n",
    "bin_unet.load_checkpoint(\n",
    "    checkpoint_path=\"../checkpoints/mmnist/bin_classifier/BinClassifierUNet_5bins_3frames_16filters_020.pt\",\n",
    "    device=device\n",
    ")\n",
    "print(\"Done.\")\n"
   ]
  },
  {
   "cell_type": "markdown",
   "id": "56d2871d-4045-4bfc-bc8d-d4bdbea89fa5",
   "metadata": {},
   "source": [
    "## Test Trained Models"
   ]
  },
  {
   "cell_type": "code",
   "execution_count": null,
   "id": "a8dc4bdd-c431-4380-aa56-b82fb4987abc",
   "metadata": {},
   "outputs": [
    {
     "name": "stdout",
     "output_type": "stream",
     "text": [
      "input frames shape: torch.Size([1, 3, 64, 64])\n",
      "output frame shape: torch.Size([1, 1, 64, 64])\n"
     ]
    }
   ],
   "source": [
    "with torch.no_grad():\n",
    "    for val_batch_idx, (in_frames, out_frames) in enumerate(\n",
    "        qr_unet.val_loader\n",
    "    ):\n",
    "    \n",
    "        in_frames = in_frames.to(device=device).float()\n",
    "        print(f\"input frames shape: {in_frames.shape}\")\n",
    "        out_frames = out_frames.to(device=device)\n",
    "        print(f\"output frame shape: {out_frames.shape}\")\n",
    "    \n",
    "        qr_pred = qr_unet.predict(in_frames)\n",
    "        print(f\"QR prediction shape: {qr_pred.shape}\")\n",
    "\n",
    "        bin_pred = bin_unet.predict(in_frames)\n",
    "        print(f\"BIN prediction shape: {bin_pred.shape}\")\n",
    "        break\n"
   ]
  },
  {
   "cell_type": "code",
   "execution_count": null,
   "id": "d673fa1f-04dc-4eb1-8b56-7a6701402db4",
   "metadata": {},
   "outputs": [],
   "source": [
    "viz.show_image_list(\n",
    "    in_frames[0].cpu().tolist(),\n",
    "    show_fig=True,\n",
    ")\n"
   ]
  },
  {
   "cell_type": "code",
   "execution_count": null,
   "id": "f88af930-267b-401d-b6a0-68413db1a462",
   "metadata": {},
   "outputs": [],
   "source": [
    "viz.show_image_list(\n",
    "    qr_pred[0].cpu().tolist(),\n",
    "    show_fig=True,\n",
    ")\n",
    "\n",
    "viz.show_image_list(\n",
    "    bin_pred[0].cpu().tolist(),\n",
    "    show_fig=True,\n",
    ")\n"
   ]
  },
  {
   "cell_type": "code",
   "execution_count": null,
   "id": "c43e822b-68e3-4588-8381-33386dba1f3b",
   "metadata": {},
   "outputs": [],
   "source": [
    "def plot_cdf(\n",
    "    pred_quantiles: torch.Tensor,\n",
    "    quantiles,\n",
    "    target_img: torch.Tensor,\n",
    "    pixel_coords: tuple[int, int]\n",
    "):\n",
    "    \"\"\"\n",
    "    Plots the cumulative distribution function (CDF) for the given quantile values and levels.\n",
    "    \n",
    "    Parameters:\n",
    "    quantile_values (list of float): List of quantile values.\n",
    "    quantile_levels (list of float): List of corresponding quantile levels (in percentage).\n",
    "    \n",
    "    Returns:\n",
    "    None\n",
    "    \"\"\"\n",
    "    quantile_values = pred_quantiles[:, pixel_coords[0], pixel_coords[1]].cpu().tolist()\n",
    "    target_value = target_img[0, pixel_coords[0], pixel_coords[1]].cpu()\n",
    "    quantile_levels = quantiles\n",
    "    if quantile_levels[0] != 0:\n",
    "        quantile_levels = [0] + quantile_levels\n",
    "        quantile_values = [0] + quantile_values\n",
    "\n",
    "    if quantile_levels[-1] != 1:\n",
    "        quantile_levels = quantile_levels + [1]\n",
    "        quantile_values = quantile_values + [1]\n",
    "\n",
    "    # Ensure the input lists are sorted by quantile levels\n",
    "    sorted_pairs = sorted(zip(quantile_levels, quantile_values))\n",
    "    quantile_levels_sorted, quantile_values_sorted = zip(*sorted_pairs)\n",
    "    \n",
    "    # Plot the CDF\n",
    "    plt.figure(figsize=(8, 5))\n",
    "    plt.plot(quantile_values_sorted, quantile_levels_sorted, marker='o', linestyle='-')\n",
    "    plt.axvline(x=target_value, color='r', label='Target value')\n",
    "    plt.xlabel('Value')\n",
    "    plt.ylabel('Cumulative Probability')\n",
    "    plt.title('Cumulative Distribution Function (CDF)')\n",
    "    plt.grid(True)\n",
    "    plt.show()\n",
    "\n",
    "plot_cdf(\n",
    "    pred_quantiles=frames_pred[0],\n",
    "    quantiles=qr_unet.quantiles,\n",
    "    target_img=out_frames[0],\n",
    "    pixel_coords=(28, 32),\n",
    ")\n"
   ]
  },
  {
   "cell_type": "code",
   "execution_count": null,
   "id": "b970423a-ccbc-44dc-8bed-d702061a1b7f",
   "metadata": {},
   "outputs": [],
   "source": []
  }
 ],
 "metadata": {
  "kernelspec": {
   "display_name": "Python 3 (ipykernel)",
   "language": "python",
   "name": "python3"
  },
  "language_info": {
   "codemirror_mode": {
    "name": "ipython",
    "version": 3
   },
   "file_extension": ".py",
   "mimetype": "text/x-python",
   "name": "python",
   "nbconvert_exporter": "python",
   "pygments_lexer": "ipython3",
   "version": "3.9.19"
  }
 },
 "nbformat": 4,
 "nbformat_minor": 5
}
