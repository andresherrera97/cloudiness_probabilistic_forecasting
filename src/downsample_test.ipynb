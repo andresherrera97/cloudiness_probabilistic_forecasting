{
 "cells": [
  {
   "cell_type": "markdown",
   "id": "37b7e838-ac7a-4354-92cf-be401e57d75c",
   "metadata": {},
   "source": [
    "# Testing Downsampled Models"
   ]
  },
  {
   "cell_type": "markdown",
   "id": "8dd00dbf-4ee9-4c93-88fb-83a1edc5a78e",
   "metadata": {},
   "source": [
    "## Setup"
   ]
  },
  {
   "cell_type": "code",
   "execution_count": 1,
   "id": "17a65d59-13cc-408c-9e02-ca7944487032",
   "metadata": {},
   "outputs": [],
   "source": [
    "%load_ext autoreload\n",
    "%autoreload 2\n"
   ]
  },
  {
   "cell_type": "code",
   "execution_count": 2,
   "id": "cbf8bbf5-efcf-47b8-ad2c-7f91938ce236",
   "metadata": {},
   "outputs": [],
   "source": [
    "import torch\n",
    "import matplotlib.pyplot as plt\n",
    "import visualization as viz\n",
    "from models import DeterministicUNet, UNetConfig\n",
    "from metrics.deterministic_metrics import DeterministicMetrics\n",
    "import numpy as np\n",
    "import random\n",
    "from tqdm import tqdm\n"
   ]
  },
  {
   "cell_type": "code",
   "execution_count": 3,
   "id": "2d9b2def-4e6a-4cf7-8e33-af38af35a11d",
   "metadata": {},
   "outputs": [],
   "source": [
    "torch.manual_seed(0)\n",
    "random.seed(0)\n",
    "np.random.seed(0)\n"
   ]
  },
  {
   "cell_type": "code",
   "execution_count": 4,
   "id": "22d532bf-2c28-4a8b-817f-83da00702609",
   "metadata": {},
   "outputs": [
    {
     "name": "stdout",
     "output_type": "stream",
     "text": [
      "using device: cuda\n"
     ]
    }
   ],
   "source": [
    "device = torch.device(\"cuda\") if torch.cuda.is_available() else torch.device(\"cpu\")\n",
    "print(f\"using device: {device}\")\n"
   ]
  },
  {
   "cell_type": "markdown",
   "id": "e4a6ed4b-259c-454f-9b97-c33ebd7fa78e",
   "metadata": {},
   "source": [
    "### Load Checkpoints\n"
   ]
  },
  {
   "cell_type": "code",
   "execution_count": 15,
   "id": "cd88f3af-42b6-4f7c-832d-1a57989f0e3b",
   "metadata": {},
   "outputs": [],
   "source": [
    "unet_60min_down2 = \"../checkpoints/goes16/det32_60min_DOWN2/det/UNet_IN3_F32_SC0_BS_4_TH60_E11_BVM0_05_D2024-11-12_03:50.pt\"\n",
    "unet_300min_down2 = \"../checkpoints/goes16/det32_300min_DOWN2/det/UNet_IN3_F32_SC0_BS_4_TH300_E16_BVM0_09_D2024-11-11_19:25.pt\"\n",
    "unet_60min_down4 = \"../checkpoints/goes16/\"\n",
    "unet_300min_down24 = \"../checkpoints/goes16/\"\n",
    "\n",
    "\n",
    "unet_config = UNetConfig(\n",
    "    in_frames=3,\n",
    "    spatial_context=0,\n",
    "    filters=32,\n",
    "    output_activation=\"sigmoid\",\n",
    "    device=device,\n",
    ")\n",
    "\n",
    "deterministic_metrics = DeterministicMetrics()"
   ]
  },
  {
   "cell_type": "markdown",
   "id": "11ca355e-33f3-4a54-9568-8d44b4c32a31",
   "metadata": {},
   "source": [
    "## Model testing"
   ]
  },
  {
   "cell_type": "markdown",
   "id": "bedb3eb7-f6fb-4557-90e4-02f771d72ef5",
   "metadata": {},
   "source": [
    "### 1 hour"
   ]
  },
  {
   "cell_type": "code",
   "execution_count": 7,
   "id": "c8e69a8f-7c68-4f7b-96d4-55ff08e54e3c",
   "metadata": {},
   "outputs": [
    {
     "name": "stderr",
     "output_type": "stream",
     "text": [
      "INFO:GOES16Dataset:Number of sequences filtered: 614\n",
      "INFO:GOES16Dataset:Number of sequences filtered by black images: 1\n",
      "INFO:GOES16Dataset:Number of sequences filtered: 192\n",
      "INFO:GOES16Dataset:Number of sequences filtered by black images: 1\n",
      "INFO:DeterministicUNet:Train loader size: 23247\n",
      "INFO:DeterministicUNet:Val loader size: 4666\n",
      "INFO:DeterministicUNet:Samples height: 1024, Samples width: 1024\n"
     ]
    }
   ],
   "source": [
    "unet = DeterministicUNet(config=unet_config)\n",
    "\n",
    "unet.load_checkpoint(checkpoint_path=unet_60min_down2, device=device)\n",
    "unet.model.eval()\n",
    "unet.create_dataloaders(\n",
    "    dataset=\"goes16\",\n",
    "    path=\"../datasets/goes16/salto/\",\n",
    "    batch_size=1,\n",
    "    time_horizon=60,\n",
    ")\n"
   ]
  },
  {
   "cell_type": "code",
   "execution_count": 17,
   "id": "05c2586b-9376-4d8c-9e31-7fabd366169a",
   "metadata": {},
   "outputs": [],
   "source": [
    "val_loss_per_batch = []  # stores values for this validation run\n",
    "val_loss_upsample_per_batch = []  # stores values for this validation run\n",
    "# deterministic_metrics.start_epoch()\n",
    "\n",
    "upsample_nearest = torch.nn.Upsample(scale_factor=2, mode='nearest')\n",
    "\n",
    "with torch.no_grad():\n",
    "    for val_batch_idx, (in_frames, out_frames) in enumerate(\n",
    "        unet.val_loader\n",
    "    ):\n",
    "\n",
    "        in_frames = in_frames.to(device=device, dtype=unet.torch_dtype)\n",
    "        out_frames = out_frames.to(device=device, dtype=unet.torch_dtype)\n",
    "\n",
    "        in_frames_down = in_frames[:, :, ::2, ::2]\n",
    "        out_frames_down = out_frames[:, :, ::2, ::2]\n",
    "\n",
    "        with torch.autocast(device_type=\"cuda\", dtype=unet.torch_dtype):\n",
    "            frames_pred = unet.model(in_frames_down)\n",
    "            frames_pred = unet.remove_spatial_context(frames_pred)\n",
    "            frames_pred_upsample = upsample_nearest(frames_pred)\n",
    "            persistence_pred_down = unet.remove_spatial_context(in_frames_down[:, unet.in_frames-1:, :, :])\n",
    "            val_loss = unet.calculate_loss(frames_pred, out_frames_down)\n",
    "            val_loss_upsample = unet.calculate_loss(frames_pred_upsample, out_frames)\n",
    "\n",
    "            # unet.deterministic_metrics.run_per_batch_metrics(\n",
    "            #     y_true=out_frames_down,\n",
    "            #     y_pred=frames_pred,\n",
    "            #     y_persistence=persistence_pred_down,\n",
    "            #     pixel_wise=False,\n",
    "            #     eps=1e-5,\n",
    "            # )\n",
    "\n",
    "        val_loss_per_batch.append(val_loss.detach().item())\n",
    "        val_loss_upsample_per_batch.append(val_loss_upsample.detach().item())\n",
    "\n",
    "\n",
    "val_loss_in_epoch = sum(val_loss_per_batch) / len(val_loss_per_batch)\n",
    "val_loss_upsample_in_epoch = sum(val_loss_upsample_per_batch) / len(val_loss_upsample_per_batch)\n",
    "# forecasting_metrics = unet.deterministic_metrics.end_epoch()\n"
   ]
  },
  {
   "cell_type": "code",
   "execution_count": 18,
   "id": "b78434a7-a0fd-4bf3-9dcf-7dc5f56ba171",
   "metadata": {},
   "outputs": [
    {
     "name": "stdout",
     "output_type": "stream",
     "text": [
      "0.05534084122432368\n",
      "0.056538171029002576\n"
     ]
    }
   ],
   "source": [
    "print(val_loss_in_epoch)\n",
    "print(val_loss_upsample_in_epoch)\n"
   ]
  },
  {
   "cell_type": "markdown",
   "id": "1c46d9b5-92ea-4584-87c9-0a4a292cdc26",
   "metadata": {},
   "source": [
    "### 5 hours"
   ]
  },
  {
   "cell_type": "code",
   "execution_count": 19,
   "id": "7799d19b-dfe6-442d-89f0-ec527ce99295",
   "metadata": {},
   "outputs": [
    {
     "name": "stderr",
     "output_type": "stream",
     "text": [
      "INFO:GOES16Dataset:Number of sequences filtered: 491\n",
      "INFO:GOES16Dataset:Number of sequences filtered by black images: 1\n",
      "INFO:GOES16Dataset:Number of sequences filtered: 163\n",
      "INFO:GOES16Dataset:Number of sequences filtered by black images: 0\n",
      "INFO:DeterministicUNet:Train loader size: 11993\n",
      "INFO:DeterministicUNet:Val loader size: 2336\n",
      "INFO:DeterministicUNet:Samples height: 1024, Samples width: 1024\n"
     ]
    }
   ],
   "source": [
    "unet = DeterministicUNet(config=unet_config)\n",
    "\n",
    "unet.load_checkpoint(checkpoint_path=unet_300min_down2, device=device)\n",
    "unet.model.eval()\n",
    "unet.create_dataloaders(\n",
    "    dataset=\"goes16\",\n",
    "    path=\"../datasets/goes16/salto/\",\n",
    "    batch_size=1,\n",
    "    time_horizon=300,\n",
    ")\n"
   ]
  },
  {
   "cell_type": "code",
   "execution_count": 20,
   "id": "de07c867-4407-48ea-8031-ced923f5ea7f",
   "metadata": {},
   "outputs": [],
   "source": [
    "val_loss_per_batch = []  # stores values for this validation run\n",
    "val_loss_upsample_per_batch = []  # stores values for this validation run\n",
    "# deterministic_metrics.start_epoch()\n",
    "\n",
    "upsample_nearest = torch.nn.Upsample(scale_factor=2, mode='nearest')\n",
    "\n",
    "with torch.no_grad():\n",
    "    for val_batch_idx, (in_frames, out_frames) in enumerate(\n",
    "        unet.val_loader\n",
    "    ):\n",
    "\n",
    "        in_frames = in_frames.to(device=device, dtype=unet.torch_dtype)\n",
    "        out_frames = out_frames.to(device=device, dtype=unet.torch_dtype)\n",
    "\n",
    "        in_frames_down = in_frames[:, :, ::2, ::2]\n",
    "        out_frames_down = out_frames[:, :, ::2, ::2]\n",
    "\n",
    "        with torch.autocast(device_type=\"cuda\", dtype=unet.torch_dtype):\n",
    "            frames_pred = unet.model(in_frames_down)\n",
    "            frames_pred = unet.remove_spatial_context(frames_pred)\n",
    "            frames_pred_upsample = upsample_nearest(frames_pred)\n",
    "            persistence_pred_down = unet.remove_spatial_context(in_frames_down[:, unet.in_frames-1:, :, :])\n",
    "            val_loss = unet.calculate_loss(frames_pred, out_frames_down)\n",
    "            val_loss_upsample = unet.calculate_loss(frames_pred_upsample, out_frames)\n",
    "\n",
    "            # unet.deterministic_metrics.run_per_batch_metrics(\n",
    "            #     y_true=out_frames_down,\n",
    "            #     y_pred=frames_pred,\n",
    "            #     y_persistence=persistence_pred_down,\n",
    "            #     pixel_wise=False,\n",
    "            #     eps=1e-5,\n",
    "            # )\n",
    "\n",
    "        val_loss_per_batch.append(val_loss.detach().item())\n",
    "        val_loss_upsample_per_batch.append(val_loss_upsample.detach().item())\n",
    "\n",
    "\n",
    "val_loss_in_epoch = sum(val_loss_per_batch) / len(val_loss_per_batch)\n",
    "val_loss_upsample_in_epoch = sum(val_loss_upsample_per_batch) / len(val_loss_upsample_per_batch)\n",
    "# forecasting_metrics = unet.deterministic_metrics.end_epoch()\n"
   ]
  },
  {
   "cell_type": "code",
   "execution_count": 21,
   "id": "100402c6-be71-4eb6-a1d7-98aad76bc79e",
   "metadata": {},
   "outputs": [
    {
     "name": "stdout",
     "output_type": "stream",
     "text": [
      "0.09800644795476517\n",
      "0.09873316039838381\n"
     ]
    }
   ],
   "source": [
    "print(val_loss_in_epoch)\n",
    "print(val_loss_upsample_in_epoch)\n"
   ]
  }
 ],
 "metadata": {
  "kernelspec": {
   "display_name": "Python 3 (ipykernel)",
   "language": "python",
   "name": "python3"
  },
  "language_info": {
   "codemirror_mode": {
    "name": "ipython",
    "version": 3
   },
   "file_extension": ".py",
   "mimetype": "text/x-python",
   "name": "python",
   "nbconvert_exporter": "python",
   "pygments_lexer": "ipython3",
   "version": "3.9.19"
  }
 },
 "nbformat": 4,
 "nbformat_minor": 5
}
