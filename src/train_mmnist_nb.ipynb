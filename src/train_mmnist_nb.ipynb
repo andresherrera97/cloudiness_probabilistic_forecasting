{
 "cells": [
  {
   "cell_type": "markdown",
   "id": "7abc1fea-059e-436f-ba85-bc08b4a782c5",
   "metadata": {},
   "source": [
    "# Probabilistic U-Net Training on the Moving MNIST dataset"
   ]
  },
  {
   "cell_type": "code",
   "execution_count": 1,
   "id": "a22f5c6a-ae08-4bfb-8832-3483ea23637f",
   "metadata": {},
   "outputs": [],
   "source": [
    "%load_ext autoreload\n",
    "%autoreload 2\n"
   ]
  },
  {
   "cell_type": "code",
   "execution_count": 2,
   "id": "106b3e5d-e8d9-4f1c-a8fd-65726ca3bb60",
   "metadata": {},
   "outputs": [],
   "source": [
    "import datetime\n",
    "import wandb\n",
    "import torch\n",
    "import models.probabilistic_unet as p_unet\n",
    "import visualization as viz\n",
    "from models import (\n",
    "    MeanStdUNet,\n",
    "    BinClassifierUNet,\n",
    "    QuantileRegressorUNet,\n",
    "    MonteCarloDropoutUNet,\n",
    ")\n",
    "import numpy as np\n",
    "import random\n",
    "from tqdm import tqdm\n"
   ]
  },
  {
   "cell_type": "code",
   "execution_count": 3,
   "id": "91ad3fd0-5cc9-4709-94d6-f14bde72eb39",
   "metadata": {},
   "outputs": [],
   "source": [
    "torch.manual_seed(0)\n",
    "random.seed(0)\n",
    "np.random.seed(0)\n"
   ]
  },
  {
   "cell_type": "code",
   "execution_count": 4,
   "id": "1c9ae629-f43a-4946-bcfa-049190c25503",
   "metadata": {},
   "outputs": [
    {
     "name": "stdout",
     "output_type": "stream",
     "text": [
      "using device: cuda\n"
     ]
    }
   ],
   "source": [
    "device = torch.device(\"cuda\") if torch.cuda.is_available() else torch.device(\"cpu\")\n",
    "print(f\"using device: {device}\")\n"
   ]
  },
  {
   "cell_type": "markdown",
   "id": "2dc19b04-5f1a-4ecf-8a66-6a05bbfbb302",
   "metadata": {},
   "source": [
    "# Quantile Regressor UNet"
   ]
  },
  {
   "cell_type": "markdown",
   "id": "467e057f-3861-4e8a-97e1-dde3438f5d66",
   "metadata": {},
   "source": [
    "## Train model"
   ]
  },
  {
   "cell_type": "code",
   "execution_count": 6,
   "id": "9fd20d4f-3fd3-4b72-ac69-04e9f27bfb45",
   "metadata": {},
   "outputs": [],
   "source": [
    "INPUT_FRAMES = 3\n",
    "FILTERS = 16\n",
    "LEARNING_RATE = 1e-3\n",
    "BATCH_SIZE = 32\n"
   ]
  },
  {
   "cell_type": "code",
   "execution_count": 9,
   "id": "6d3e012c-beb6-4da3-86db-f9c4455938fb",
   "metadata": {},
   "outputs": [],
   "source": [
    "qr_unet = QuantileRegressorUNet(\n",
    "    # quantiles=[0.1, 0.5, 0.9],\n",
    "    quantiles=list(np.linspace(0, 1, 7)[1:-1]),\n",
    "    in_frames=INPUT_FRAMES,\n",
    "    filters=FILTERS\n",
    ")\n",
    "qr_unet.model.to(device)\n",
    "qr_unet.initialize_weights()\n",
    "qr_unet.initialize_optimizer(method=\"SGD\", lr=LEARNING_RATE)\n",
    "qr_unet.create_dataloaders(\n",
    "    path=\"../datasets/moving_mnist_dataset/\",\n",
    "    batch_size=BATCH_SIZE,\n",
    ")\n"
   ]
  },
  {
   "cell_type": "code",
   "execution_count": 7,
   "id": "6d4e389a-265f-46ac-8ad8-fd077e7792f6",
   "metadata": {},
   "outputs": [],
   "source": [
    "EPOCHS = 2\n",
    "NUM_TRAIN_SAMPLES = 1000\n",
    "PRINT_EVERY_N_BATCHES = 500\n",
    "NUM_VAL_SAMPLES = 100\n",
    "SAVE_EXPERIMENT = True\n"
   ]
  },
  {
   "cell_type": "code",
   "execution_count": 8,
   "id": "d662d6ff-86b7-43de-b58e-d6e8eb11d493",
   "metadata": {},
   "outputs": [
    {
     "name": "stderr",
     "output_type": "stream",
     "text": [
      "\u001b[34m\u001b[1mwandb\u001b[0m: Currently logged in as: \u001b[33mandresherrera\u001b[0m. Use \u001b[1m`wandb login --relogin`\u001b[0m to force relogin\n"
     ]
    },
    {
     "data": {
      "text/html": [
       "wandb version 0.17.1 is available!  To upgrade, please run:\n",
       " $ pip install wandb --upgrade"
      ],
      "text/plain": [
       "<IPython.core.display.HTML object>"
      ]
     },
     "metadata": {},
     "output_type": "display_data"
    },
    {
     "data": {
      "text/html": [
       "Tracking run with wandb version 0.16.4"
      ],
      "text/plain": [
       "<IPython.core.display.HTML object>"
      ]
     },
     "metadata": {},
     "output_type": "display_data"
    },
    {
     "data": {
      "text/html": [
       "Run data is saved locally in <code>/clusteruy/home/andres.herrera/cloudiness_probabilistic_forecasting/src/wandb/run-20240609_112123-hp3yyn7f</code>"
      ],
      "text/plain": [
       "<IPython.core.display.HTML object>"
      ]
     },
     "metadata": {},
     "output_type": "display_data"
    },
    {
     "data": {
      "text/html": [
       "Syncing run <strong><a href='https://wandb.ai/andresherrera/cloudiness_probabilistic_forecasting/runs/hp3yyn7f' target=\"_blank\">2024-06-09 11:21</a></strong> to <a href='https://wandb.ai/andresherrera/cloudiness_probabilistic_forecasting' target=\"_blank\">Weights & Biases</a> (<a href='https://wandb.me/run' target=\"_blank\">docs</a>)<br/>"
      ],
      "text/plain": [
       "<IPython.core.display.HTML object>"
      ]
     },
     "metadata": {},
     "output_type": "display_data"
    },
    {
     "data": {
      "text/html": [
       " View project at <a href='https://wandb.ai/andresherrera/cloudiness_probabilistic_forecasting' target=\"_blank\">https://wandb.ai/andresherrera/cloudiness_probabilistic_forecasting</a>"
      ],
      "text/plain": [
       "<IPython.core.display.HTML object>"
      ]
     },
     "metadata": {},
     "output_type": "display_data"
    },
    {
     "data": {
      "text/html": [
       " View run at <a href='https://wandb.ai/andresherrera/cloudiness_probabilistic_forecasting/runs/hp3yyn7f' target=\"_blank\">https://wandb.ai/andresherrera/cloudiness_probabilistic_forecasting/runs/hp3yyn7f</a>"
      ],
      "text/plain": [
       "<IPython.core.display.HTML object>"
      ]
     },
     "metadata": {},
     "output_type": "display_data"
    },
    {
     "name": "stdout",
     "output_type": "stream",
     "text": [
      "BATCH(1/4250) | Train loss(1.2003) | Time Batch(10.23) | \n",
      "BATCH(501/4250) | Train loss(0.2947) | Time Batch(0.02) | \n",
      "BATCH(1001/4250) | Train loss(0.1625) | Time Batch(0.01) | \n",
      "Epoch(1/2) | Train_loss(0.4066) | Val_loss(0.1641) | CRPS(0.1641) | Time_Epoch(1210.31s) |\n",
      "Saving best model. Best val loss: 0.1641\n",
      "BATCH(1/4250) | Train loss(0.1642) | Time Batch(0.02) | \n",
      "BATCH(501/4250) | Train loss(0.1242) | Time Batch(0.01) | \n",
      "BATCH(1001/4250) | Train loss(0.1078) | Time Batch(0.01) | \n",
      "Epoch(2/2) | Train_loss(0.1298) | Val_loss(0.1096) | CRPS(0.1067) | Time_Epoch(656.81s) |\n",
      "Saving best model. Best val loss: 0.1096\n"
     ]
    },
    {
     "data": {
      "text/html": [
       "<style>\n",
       "    table.wandb td:nth-child(1) { padding: 0 10px; text-align: left ; width: auto;} td:nth-child(2) {text-align: left ; width: 100%}\n",
       "    .wandb-row { display: flex; flex-direction: row; flex-wrap: wrap; justify-content: flex-start; width: 100% }\n",
       "    .wandb-col { display: flex; flex-direction: column; flex-basis: 100%; flex: 1; padding: 10px; }\n",
       "    </style>\n",
       "<div class=\"wandb-row\"><div class=\"wandb-col\"><h3>Run history:</h3><br/><table class=\"wandb\"><tr><td>crps_quantile</td><td>█▁</td></tr><tr><td>train_loss</td><td>█▁</td></tr><tr><td>val_loss</td><td>█▁</td></tr></table><br/></div><div class=\"wandb-col\"><h3>Run summary:</h3><br/><table class=\"wandb\"><tr><td>crps_quantile</td><td>0.10673</td></tr><tr><td>train_loss</td><td>0.12976</td></tr><tr><td>val_loss</td><td>0.10963</td></tr></table><br/></div></div>"
      ],
      "text/plain": [
       "<IPython.core.display.HTML object>"
      ]
     },
     "metadata": {},
     "output_type": "display_data"
    },
    {
     "data": {
      "text/html": [
       " View run <strong style=\"color:#cdcd00\">2024-06-09 11:21</strong> at: <a href='https://wandb.ai/andresherrera/cloudiness_probabilistic_forecasting/runs/hp3yyn7f' target=\"_blank\">https://wandb.ai/andresherrera/cloudiness_probabilistic_forecasting/runs/hp3yyn7f</a><br/> View job at <a href='https://wandb.ai/andresherrera/cloudiness_probabilistic_forecasting/jobs/QXJ0aWZhY3RDb2xsZWN0aW9uOjE4NDAyNzk2OA==/version_details/v0' target=\"_blank\">https://wandb.ai/andresherrera/cloudiness_probabilistic_forecasting/jobs/QXJ0aWZhY3RDb2xsZWN0aW9uOjE4NDAyNzk2OA==/version_details/v0</a><br/>Synced 6 W&B file(s), 0 media file(s), 2 artifact file(s) and 0 other file(s)"
      ],
      "text/plain": [
       "<IPython.core.display.HTML object>"
      ]
     },
     "metadata": {},
     "output_type": "display_data"
    },
    {
     "data": {
      "text/html": [
       "Find logs at: <code>./wandb/run-20240609_112123-hp3yyn7f/logs</code>"
      ],
      "text/plain": [
       "<IPython.core.display.HTML object>"
      ]
     },
     "metadata": {},
     "output_type": "display_data"
    }
   ],
   "source": [
    "# start a new wandb run to track this script\n",
    "if SAVE_EXPERIMENT:\n",
    "    run = wandb.init(\n",
    "        project=\"cloudiness_probabilistic_forecasting\",\n",
    "        name=datetime.datetime.now().strftime(\"%Y-%m-%d %H:%M\"),\n",
    "        config={\n",
    "            \"optimizer\": \"SGD\",\n",
    "            \"learning_rate\": LEARNING_RATE,\n",
    "            \"architecture\": qr_unet.name,\n",
    "            \"dataset\": \"moving_mnist\",\n",
    "            \"epochs\": EPOCHS,\n",
    "        },\n",
    "    )\n",
    "\n",
    "    wandb.watch(qr_unet.model, log_freq=100)\n",
    "else:\n",
    "    run = None\n",
    "\n",
    "train_loss, val_loss = qr_unet.fit(\n",
    "    n_epochs=EPOCHS,\n",
    "    num_train_samples=NUM_TRAIN_SAMPLES,\n",
    "    print_train_every_n_batch=PRINT_EVERY_N_BATCHES,\n",
    "    num_val_samples=NUM_VAL_SAMPLES,\n",
    "    device=device,\n",
    "    run=run,\n",
    "    model_name=\"qr_model_mmnist_test\",\n",
    "    checkpoint_path=\"../checkpoints/prueba/\",\n",
    "    verbose=True,\n",
    ")\n",
    "\n",
    "if SAVE_EXPERIMENT:\n",
    "    wandb.finish()\n"
   ]
  },
  {
   "cell_type": "markdown",
   "id": "cde418e5-3af1-4330-a988-7d92dcb0ccb9",
   "metadata": {},
   "source": [
    "## Visualize Trained model predictions"
   ]
  },
  {
   "cell_type": "code",
   "execution_count": 13,
   "id": "0d6c012c-bb77-48ba-8969-b0cdbad5c4ba",
   "metadata": {},
   "outputs": [],
   "source": [
    "qr_unet.load_checkpoint(\n",
    "    checkpoint_path=\"../checkpoints/prueba/qr_model_mmnist_test_002.pt\",\n",
    "    device=device\n",
    ")\n"
   ]
  },
  {
   "cell_type": "code",
   "execution_count": 14,
   "id": "e33c12bf-b051-4886-856b-cb3f87810452",
   "metadata": {},
   "outputs": [
    {
     "name": "stdout",
     "output_type": "stream",
     "text": [
      "input frames shape: torch.Size([32, 3, 64, 64])\n",
      "output frame shape: torch.Size([32, 1, 64, 64])\n",
      "prediction shape: torch.Size([32, 5, 64, 64])\n"
     ]
    }
   ],
   "source": [
    "with torch.no_grad():\n",
    "    for val_batch_idx, (in_frames, out_frames) in enumerate(\n",
    "        qr_unet.val_loader\n",
    "    ):\n",
    "    \n",
    "        in_frames = in_frames.to(device=device).float()\n",
    "        print(f\"input frames shape: {in_frames.shape}\")\n",
    "        out_frames = out_frames.to(device=device)\n",
    "        print(f\"output frame shape: {out_frames.shape}\")\n",
    "    \n",
    "        frames_pred = qr_unet.predict(in_frames)\n",
    "        print(f\"prediction shape: {frames_pred.shape}\")\n",
    "        break\n"
   ]
  },
  {
   "cell_type": "code",
   "execution_count": 22,
   "id": "f0c895df-55d4-4971-9643-128ca9c25288",
   "metadata": {},
   "outputs": [
    {
     "data": {
      "image/png": "[encoded data removed]",
      "text/plain": [
       "<Figure size 1500x600 with 3 Axes>"
      ]
     },
     "metadata": {},
     "output_type": "display_data"
    }
   ],
   "source": [
    "viz.show_image_list(\n",
    "    in_frames[0].cpu().tolist(),\n",
    "    show_fig=True,\n",
    ")\n"
   ]
  },
  {
   "cell_type": "code",
   "execution_count": 23,
   "id": "69a8c55d-affa-452b-8117-0897f8a75b08",
   "metadata": {},
   "outputs": [
    {
     "data": {
      "image/png": "[encoded data removed]",
      "text/plain": [
       "<Figure size 2500x600 with 5 Axes>"
      ]
     },
     "metadata": {},
     "output_type": "display_data"
    }
   ],
   "source": [
    "viz.show_image_list(\n",
    "    frames_pred[0].cpu().tolist(),\n",
    "    show_fig=True,\n",
    ")"
   ]
  },
  {
   "cell_type": "code",
   "execution_count": 18,
   "id": "1a18522d-bedc-4535-bd63-b3194ec3f3eb",
   "metadata": {},
   "outputs": [
    {
     "data": {
      "image/png": "[encoded data removed]",
      "text/plain": [
       "<Figure size 1000x500 with 1 Axes>"
      ]
     },
     "metadata": {},
     "output_type": "display_data"
    }
   ],
   "source": [
    "viz.plot_quantile_predictions(\n",
    "    input_images=in_frames[0],\n",
    "    pred_quantiles=frames_pred[0],\n",
    "    quantiles=qr_unet.quantiles,\n",
    "    target_img=out_frames[0],\n",
    "    pixel_coords=(32, 32),\n",
    "    fig_name=None,\n",
    "    width=3,\n",
    ")\n"
   ]
  },
  {
   "cell_type": "code",
   "execution_count": null,
   "id": "5d6ed336-7226-4e6d-b0d9-6afeb1d3a48e",
   "metadata": {},
   "outputs": [],
   "source": [
    "rompe"
   ]
  },
  {
   "cell_type": "markdown",
   "id": "06f1cf2e-dc08-4f6e-b0a5-4658ba278b06",
   "metadata": {},
   "source": [
    "# Bin Classifier UNet"
   ]
  },
  {
   "cell_type": "markdown",
   "id": "7e2fb647-0b29-476d-856e-8371fa734fc2",
   "metadata": {},
   "source": [
    "## Train model"
   ]
  },
  {
   "cell_type": "code",
   "execution_count": 10,
   "id": "82861d7c-0c31-4ba2-ad59-b2ac15bfd4e2",
   "metadata": {},
   "outputs": [],
   "source": [
    "INPUT_FRAMES = 3\n",
    "FILTERS = 16\n",
    "LEARNING_RATE = 1e-3\n",
    "BATCH_SIZE = 32\n",
    "NUM_BINS = 5\n"
   ]
  },
  {
   "cell_type": "code",
   "execution_count": 15,
   "id": "18c0e9d5-982c-4dcd-8e9c-718d348a0174",
   "metadata": {},
   "outputs": [],
   "source": [
    "bin_unet = BinClassifierUNet(\n",
    "    n_bins=NUM_BINS,\n",
    "    in_frames=INPUT_FRAMES,\n",
    "    filters=FILTERS,\n",
    "    device=device,\n",
    ")\n",
    "bin_unet.model.to(device)\n",
    "bin_unet.initialize_weights()\n",
    "bin_unet.initialize_optimizer(method=\"SGD\", lr=LEARNING_RATE)\n",
    "bin_unet.create_dataloaders(\n",
    "    path=\"../datasets/moving_mnist_dataset/\",\n",
    "    batch_size=BATCH_SIZE,\n",
    "    binarization_method=\"integer_classes\",\n",
    ")\n"
   ]
  },
  {
   "cell_type": "code",
   "execution_count": 16,
   "id": "12c18b8e-a938-48b4-9d57-fced64877a9c",
   "metadata": {},
   "outputs": [],
   "source": [
    "EPOCHS = 2\n",
    "NUM_TRAIN_SAMPLES = 1000\n",
    "PRINT_EVERY_N_BATCHES = 500\n",
    "NUM_VAL_SAMPLES = 100\n",
    "SAVE_EXPERIMENT = True\n"
   ]
  },
  {
   "cell_type": "code",
   "execution_count": 17,
   "id": "cbc0cf09-f170-4892-b402-4905f6e9f249",
   "metadata": {},
   "outputs": [
    {
     "data": {
      "text/html": [
       "Finishing last run (ID:9jfqitzg) before initializing another..."
      ],
      "text/plain": [
       "<IPython.core.display.HTML object>"
      ]
     },
     "metadata": {},
     "output_type": "display_data"
    },
    {
     "data": {
      "text/html": [
       "W&B sync reduced upload amount by 1.5%             "
      ],
      "text/plain": [
       "<IPython.core.display.HTML object>"
      ]
     },
     "metadata": {},
     "output_type": "display_data"
    },
    {
     "data": {
      "text/html": [
       " View run <strong style=\"color:#cdcd00\">2024-06-09 11:58</strong> at: <a href='https://wandb.ai/andresherrera/cloudiness_probabilistic_forecasting/runs/9jfqitzg' target=\"_blank\">https://wandb.ai/andresherrera/cloudiness_probabilistic_forecasting/runs/9jfqitzg</a><br/> View job at <a href='https://wandb.ai/andresherrera/cloudiness_probabilistic_forecasting/jobs/QXJ0aWZhY3RDb2xsZWN0aW9uOjE4NDAyNzk2OA==/version_details/v1' target=\"_blank\">https://wandb.ai/andresherrera/cloudiness_probabilistic_forecasting/jobs/QXJ0aWZhY3RDb2xsZWN0aW9uOjE4NDAyNzk2OA==/version_details/v1</a><br/>Synced 6 W&B file(s), 0 media file(s), 2 artifact file(s) and 0 other file(s)"
      ],
      "text/plain": [
       "<IPython.core.display.HTML object>"
      ]
     },
     "metadata": {},
     "output_type": "display_data"
    },
    {
     "data": {
      "text/html": [
       "Find logs at: <code>./wandb/run-20240609_115857-9jfqitzg/logs</code>"
      ],
      "text/plain": [
       "<IPython.core.display.HTML object>"
      ]
     },
     "metadata": {},
     "output_type": "display_data"
    },
    {
     "data": {
      "text/html": [
       "Successfully finished last run (ID:9jfqitzg). Initializing new run:<br/>"
      ],
      "text/plain": [
       "<IPython.core.display.HTML object>"
      ]
     },
     "metadata": {},
     "output_type": "display_data"
    },
    {
     "data": {
      "text/html": [
       "wandb version 0.17.1 is available!  To upgrade, please run:\n",
       " $ pip install wandb --upgrade"
      ],
      "text/plain": [
       "<IPython.core.display.HTML object>"
      ]
     },
     "metadata": {},
     "output_type": "display_data"
    },
    {
     "data": {
      "text/html": [
       "Tracking run with wandb version 0.16.4"
      ],
      "text/plain": [
       "<IPython.core.display.HTML object>"
      ]
     },
     "metadata": {},
     "output_type": "display_data"
    },
    {
     "data": {
      "text/html": [
       "Run data is saved locally in <code>/clusteruy/home/andres.herrera/cloudiness_probabilistic_forecasting/src/wandb/run-20240609_122106-4162f1pl</code>"
      ],
      "text/plain": [
       "<IPython.core.display.HTML object>"
      ]
     },
     "metadata": {},
     "output_type": "display_data"
    },
    {
     "data": {
      "text/html": [
       "Syncing run <strong><a href='https://wandb.ai/andresherrera/cloudiness_probabilistic_forecasting/runs/4162f1pl' target=\"_blank\">2024-06-09 12:21</a></strong> to <a href='https://wandb.ai/andresherrera/cloudiness_probabilistic_forecasting' target=\"_blank\">Weights & Biases</a> (<a href='https://wandb.me/run' target=\"_blank\">docs</a>)<br/>"
      ],
      "text/plain": [
       "<IPython.core.display.HTML object>"
      ]
     },
     "metadata": {},
     "output_type": "display_data"
    },
    {
     "data": {
      "text/html": [
       " View project at <a href='https://wandb.ai/andresherrera/cloudiness_probabilistic_forecasting' target=\"_blank\">https://wandb.ai/andresherrera/cloudiness_probabilistic_forecasting</a>"
      ],
      "text/plain": [
       "<IPython.core.display.HTML object>"
      ]
     },
     "metadata": {},
     "output_type": "display_data"
    },
    {
     "data": {
      "text/html": [
       " View run at <a href='https://wandb.ai/andresherrera/cloudiness_probabilistic_forecasting/runs/4162f1pl' target=\"_blank\">https://wandb.ai/andresherrera/cloudiness_probabilistic_forecasting/runs/4162f1pl</a>"
      ],
      "text/plain": [
       "<IPython.core.display.HTML object>"
      ]
     },
     "metadata": {},
     "output_type": "display_data"
    },
    {
     "name": "stdout",
     "output_type": "stream",
     "text": [
      "BATCH(1/4250) | Train loss(1.5669) | Time Batch(0.02) | \n",
      "BATCH(501/4250) | Train loss(1.1977) | Time Batch(0.01) | \n",
      "BATCH(1001/4250) | Train loss(1.0766) | Time Batch(0.01) | \n",
      "Epoch(1/2) | Train_loss(1.2313) | Val_loss(1.0770) | CRPS(0.3598 | precision(0.2443 | Time_Epoch(269.28s) |\n",
      "Saving best model. Best val loss: 1.0770\n",
      "BATCH(1/4250) | Train loss(1.0800) | Time Batch(0.01) | \n",
      "BATCH(501/4250) | Train loss(1.0222) | Time Batch(0.01) | \n",
      "BATCH(1001/4250) | Train loss(0.9975) | Time Batch(0.01) | \n",
      "Epoch(2/2) | Train_loss(1.0283) | Val_loss(0.9982) | CRPS(0.1124 | precision(0.1884 | Time_Epoch(196.64s) |\n",
      "Saving best model. Best val loss: 0.9982\n"
     ]
    },
    {
     "data": {
      "text/html": [
       "W&B sync reduced upload amount by 1.5%             "
      ],
      "text/plain": [
       "<IPython.core.display.HTML object>"
      ]
     },
     "metadata": {},
     "output_type": "display_data"
    },
    {
     "data": {
      "text/html": [
       "<style>\n",
       "    table.wandb td:nth-child(1) { padding: 0 10px; text-align: left ; width: auto;} td:nth-child(2) {text-align: left ; width: 100%}\n",
       "    .wandb-row { display: flex; flex-direction: row; flex-wrap: wrap; justify-content: flex-start; width: 100% }\n",
       "    .wandb-col { display: flex; flex-direction: column; flex-basis: 100%; flex: 1; padding: 10px; }\n",
       "    </style>\n",
       "<div class=\"wandb-row\"><div class=\"wandb-col\"><h3>Run history:</h3><br/><table class=\"wandb\"><tr><td>crps_bin</td><td>█▁</td></tr><tr><td>precision</td><td>█▁</td></tr><tr><td>train_loss</td><td>█▁</td></tr><tr><td>val_loss</td><td>█▁</td></tr></table><br/></div><div class=\"wandb-col\"><h3>Run summary:</h3><br/><table class=\"wandb\"><tr><td>crps_bin</td><td>0.11244</td></tr><tr><td>precision</td><td>0.18838</td></tr><tr><td>train_loss</td><td>1.02833</td></tr><tr><td>val_loss</td><td>0.9982</td></tr></table><br/></div></div>"
      ],
      "text/plain": [
       "<IPython.core.display.HTML object>"
      ]
     },
     "metadata": {},
     "output_type": "display_data"
    },
    {
     "data": {
      "text/html": [
       " View run <strong style=\"color:#cdcd00\">2024-06-09 12:21</strong> at: <a href='https://wandb.ai/andresherrera/cloudiness_probabilistic_forecasting/runs/4162f1pl' target=\"_blank\">https://wandb.ai/andresherrera/cloudiness_probabilistic_forecasting/runs/4162f1pl</a><br/> View job at <a href='https://wandb.ai/andresherrera/cloudiness_probabilistic_forecasting/jobs/QXJ0aWZhY3RDb2xsZWN0aW9uOjE4NDAyNzk2OA==/version_details/v2' target=\"_blank\">https://wandb.ai/andresherrera/cloudiness_probabilistic_forecasting/jobs/QXJ0aWZhY3RDb2xsZWN0aW9uOjE4NDAyNzk2OA==/version_details/v2</a><br/>Synced 6 W&B file(s), 0 media file(s), 2 artifact file(s) and 0 other file(s)"
      ],
      "text/plain": [
       "<IPython.core.display.HTML object>"
      ]
     },
     "metadata": {},
     "output_type": "display_data"
    },
    {
     "data": {
      "text/html": [
       "Find logs at: <code>./wandb/run-20240609_122106-4162f1pl/logs</code>"
      ],
      "text/plain": [
       "<IPython.core.display.HTML object>"
      ]
     },
     "metadata": {},
     "output_type": "display_data"
    }
   ],
   "source": [
    "# start a new wandb run to track this script\n",
    "if SAVE_EXPERIMENT:\n",
    "    run = wandb.init(\n",
    "        project=\"cloudiness_probabilistic_forecasting\",\n",
    "        name=datetime.datetime.now().strftime(\"%Y-%m-%d %H:%M\"),\n",
    "        config={\n",
    "            \"optimizer\": \"SGD\",\n",
    "            \"learning_rate\": LEARNING_RATE,\n",
    "            \"architecture\": bin_unet.name,\n",
    "            \"dataset\": \"moving_mnist\",\n",
    "            \"epochs\": EPOCHS,\n",
    "        },\n",
    "    )\n",
    "\n",
    "    wandb.watch(bin_unet.model, log_freq=100)\n",
    "else:\n",
    "    run = None\n",
    "\n",
    "train_loss, val_loss = bin_unet.fit(\n",
    "    n_epochs=EPOCHS,\n",
    "    num_train_samples=NUM_TRAIN_SAMPLES,\n",
    "    print_train_every_n_batch=PRINT_EVERY_N_BATCHES,\n",
    "    num_val_samples=NUM_VAL_SAMPLES,\n",
    "    device=device,\n",
    "    run=run,\n",
    "    model_name=\"bin_model_mmnist_test\",\n",
    "    checkpoint_path=\"../checkpoints/prueba/\",\n",
    "    verbose=True,\n",
    ")\n",
    "\n",
    "if SAVE_EXPERIMENT:\n",
    "    wandb.finish()\n"
   ]
  },
  {
   "cell_type": "code",
   "execution_count": null,
   "id": "097d3ad3-fc0a-4880-80cf-4e036854ba66",
   "metadata": {},
   "outputs": [],
   "source": [
    "rompe\n"
   ]
  },
  {
   "cell_type": "markdown",
   "id": "7192377a-cfbb-45ab-b595-9ffc758b36ac",
   "metadata": {},
   "source": [
    "# Mean-Std UNet"
   ]
  },
  {
   "cell_type": "markdown",
   "id": "2d004e28-64e4-449f-b30f-c52188bda169",
   "metadata": {},
   "source": [
    "## Train model"
   ]
  },
  {
   "cell_type": "code",
   "execution_count": 5,
   "id": "8290d458-54a7-4b1b-96e9-546feddbde42",
   "metadata": {},
   "outputs": [],
   "source": [
    "INPUT_FRAMES = 3\n",
    "FILTERS = 16\n",
    "LEARNING_RATE = 1e-3\n",
    "BATCH_SIZE = 32\n"
   ]
  },
  {
   "cell_type": "code",
   "execution_count": 6,
   "id": "24d6d7e3-e513-4ed7-ba53-2fdb4753b2af",
   "metadata": {},
   "outputs": [],
   "source": [
    "meanstd_unet = MeanStdUNet(\n",
    "    in_frames=INPUT_FRAMES,\n",
    "    filters=FILTERS\n",
    ")\n",
    "\n",
    "meanstd_unet.model.to(device)\n",
    "meanstd_unet.initialize_weights()\n",
    "meanstd_unet.initialize_optimizer(method=\"SGD\", lr=LEARNING_RATE)\n",
    "meanstd_unet.create_dataloaders(\n",
    "    path=\"../datasets/moving_mnist_dataset/\",\n",
    "    batch_size=BATCH_SIZE,\n",
    ")\n"
   ]
  },
  {
   "cell_type": "code",
   "execution_count": 7,
   "id": "7c6bde2e-bb6d-4383-8aa9-22a1aa268624",
   "metadata": {},
   "outputs": [],
   "source": [
    "EPOCHS = 2\n",
    "NUM_TRAIN_SAMPLES = 1\n",
    "PRINT_EVERY_N_BATCHES = 500\n",
    "NUM_VAL_SAMPLES = 1\n",
    "SAVE_EXPERIMENT = False\n"
   ]
  },
  {
   "cell_type": "code",
   "execution_count": 12,
   "id": "ace66582-ab45-4010-bee1-b6a6f382c953",
   "metadata": {},
   "outputs": [
    {
     "name": "stderr",
     "output_type": "stream",
     "text": [
      "INFO:MeanStdUNet:BATCH(1/4250) | Train loss(1.0626) | Time Batch(0.03) | \n",
      "INFO:MeanStdUNet:Epoch(1/2) | Train_loss(1.0621) | Val_loss(1.0444) | MAE(0.5091) | CRPS(0.3082 | Time_Epoch(9.25s) |\n",
      "INFO:MeanStdUNet:Saving best model. Best val loss: 1.0444\n",
      "INFO:MeanStdUNet:BATCH(1/4250) | Train loss(1.0611) | Time Batch(0.16) | \n",
      "INFO:MeanStdUNet:Epoch(2/2) | Train_loss(1.0603) | Val_loss(1.0435) | MAE(0.5085) | CRPS(0.3082 | Time_Epoch(8.70s) |\n",
      "INFO:MeanStdUNet:Saving best model. Best val loss: 1.0435\n"
     ]
    }
   ],
   "source": [
    "# start a new wandb run to track this script\n",
    "if SAVE_EXPERIMENT:\n",
    "    run = wandb.init(\n",
    "        project=\"cloudiness_probabilistic_forecasting\",\n",
    "        name=datetime.datetime.now().strftime(\"%Y-%m-%d %H:%M\"),\n",
    "        config={\n",
    "            \"optimizer\": \"SGD\",\n",
    "            \"learning_rate\": LEARNING_RATE,\n",
    "            \"architecture\": meanstd_unet.name,\n",
    "            \"dataset\": \"moving_mnist\",\n",
    "            \"epochs\": EPOCHS,\n",
    "        },\n",
    "    )\n",
    "\n",
    "    wandb.watch(meanstd_unet.model, log_freq=100)\n",
    "else:\n",
    "    run = None\n",
    "\n",
    "train_loss, val_loss = meanstd_unet.fit(\n",
    "    n_epochs=EPOCHS,\n",
    "    num_train_samples=NUM_TRAIN_SAMPLES,\n",
    "    print_train_every_n_batch=PRINT_EVERY_N_BATCHES,\n",
    "    num_val_samples=NUM_VAL_SAMPLES,\n",
    "    device=device,\n",
    "    run=run,\n",
    "    model_name=\"meanstd_model_mmnist_test\",\n",
    "    checkpoint_path=\"../checkpoints/prueba/\",\n",
    "    verbose=True,\n",
    ")\n",
    "\n",
    "if SAVE_EXPERIMENT:\n",
    "    wandb.finish()\n"
   ]
  },
  {
   "cell_type": "markdown",
   "id": "27c6ce1a-7f01-4442-9fe6-3df194cafd52",
   "metadata": {},
   "source": [
    "## Train all models"
   ]
  },
  {
   "cell_type": "code",
   "execution_count": 9,
   "id": "f533a7be-87db-44a7-aa86-63b797a9d3ef",
   "metadata": {},
   "outputs": [
    {
     "ename": "NameError",
     "evalue": "name 'rompe' is not defined",
     "output_type": "error",
     "traceback": [
      "\u001b[0;31m---------------------------------------------------------------------------\u001b[0m",
      "\u001b[0;31mNameError\u001b[0m                                 Traceback (most recent call last)",
      "Cell \u001b[0;32mIn[9], line 1\u001b[0m\n\u001b[0;32m----> 1\u001b[0m \u001b[43mrompe\u001b[49m\n",
      "\u001b[0;31mNameError\u001b[0m: name 'rompe' is not defined"
     ]
    }
   ],
   "source": [
    "rompe"
   ]
  },
  {
   "cell_type": "code",
   "execution_count": null,
   "id": "e4543607-05d5-4c00-947b-1e45473277ad",
   "metadata": {},
   "outputs": [],
   "source": [
    "NUM_BINS = 10\n",
    "INPUT_FRAMES = 3\n",
    "EPOCHS = 5\n",
    "NUM_TRAIN_SAMPLES = 1\n",
    "PRINT_EVERY_N_BATCHES = 500\n",
    "NUM_VAL_SAMPLES = 1\n",
    "BATCH_SIZE = 32\n",
    "FILTERS = 16\n",
    "LEARNING_RATE = 1e-3\n",
    "ENSEMBLE_PREDICTIONS = 1\n",
    "SAVE_EXPERIMENT = False\n"
   ]
  },
  {
   "cell_type": "code",
   "execution_count": null,
   "id": "0b66beee-7d49-48c9-9a48-79799939ad92",
   "metadata": {},
   "outputs": [],
   "source": [
    "for cls in map(p_unet.__dict__.get, p_unet.__all__):\n",
    "    if cls.__name__ == MeanStdUNet.__name__:\n",
    "        continue\n",
    "        print(\"=\" * 3, \"MeanStdUNet\", \"=\" * 3)\n",
    "        probabilistic_unet = cls(in_frames=INPUT_FRAMES, filters=FILTERS)\n",
    "    elif cls.__name__ == BinClassifierUNet.__name__:\n",
    "        continue\n",
    "        print(\"=\" * 3, \"BinClassifierUNet\", \"=\" * 3)\n",
    "        probabilistic_unet = cls(\n",
    "            n_bins=NUM_BINS, in_frames=INPUT_FRAMES, filters=FILTERS\n",
    "        )\n",
    "    elif cls.__name__ == QuantileRegressorUNet.__name__:\n",
    "        print(\"=\" * 3, \"QuantileRegressorUNet\", \"=\" * 3)\n",
    "        probabilistic_unet = cls(\n",
    "            quantiles=[0.1, 0.5, 0.9], in_frames=INPUT_FRAMES, filters=FILTERS\n",
    "        )\n",
    "    elif cls.__name__ == MonteCarloDropoutUNet.__name__:\n",
    "        continue\n",
    "        print(\"=\" * 3, \"MonteCarloDropoutUNet\", \"=\" * 3)\n",
    "        probabilistic_unet = cls(\n",
    "            dropout_p=0.5, in_frames=INPUT_FRAMES, filters=FILTERS\n",
    "        )\n",
    "        ENSEMBLE_PREDICTIONS = 3\n",
    "    else:\n",
    "        print(\"Wrong class type!\")\n",
    "\n",
    "    probabilistic_unet.model.to(device)\n",
    "    probabilistic_unet.initialize_weights()\n",
    "    probabilistic_unet.initialize_optimizer(method=\"SGD\", lr=LEARNING_RATE)\n",
    "    probabilistic_unet.create_dataloaders(\n",
    "        path=\"../datasets/moving_mnist_dataset/\",\n",
    "        batch_size=BATCH_SIZE,\n",
    "        binarization_method=\"integer_classes\",  # needed for BinClassifierUNet\n",
    "    )\n",
    "\n",
    "    # start a new wandb run to track this script\n",
    "    if SAVE_EXPERIMENT:\n",
    "        run = wandb.init(\n",
    "            project=\"cloudiness_probabilistic_forecasting\",\n",
    "            name=datetime.datetime.now().strftime(\"%Y-%m-%d %H:%M\"),\n",
    "            config={\n",
    "                \"optimizer\": \"SGD\",\n",
    "                \"learning_rate\": LEARNING_RATE,\n",
    "                \"architecture\": probabilistic_unet.name,\n",
    "                \"dataset\": \"moving_mnist\",\n",
    "                \"epochs\": EPOCHS,\n",
    "            },\n",
    "        )\n",
    "\n",
    "        wandb.watch(probabilistic_unet.model, log_freq=100)\n",
    "    else:\n",
    "        run = None\n",
    "\n",
    "    train_loss, val_loss = probabilistic_unet.fit(\n",
    "        n_epochs=EPOCHS,\n",
    "        num_train_samples=NUM_TRAIN_SAMPLES,\n",
    "        print_train_every_n_batch=PRINT_EVERY_N_BATCHES,\n",
    "        num_val_samples=NUM_VAL_SAMPLES,\n",
    "        device=device,\n",
    "        run=run,\n",
    "        verbose=True,\n",
    "        ensemble_predictions=ENSEMBLE_PREDICTIONS,\n",
    "    )\n",
    "\n",
    "    if SAVE_EXPERIMENT:\n",
    "        wandb.finish()"
   ]
  }
 ],
 "metadata": {
  "kernelspec": {
   "display_name": "Python 3 (ipykernel)",
   "language": "python",
   "name": "python3"
  },
  "language_info": {
   "codemirror_mode": {
    "name": "ipython",
    "version": 3
   },
   "file_extension": ".py",
   "mimetype": "text/x-python",
   "name": "python",
   "nbconvert_exporter": "python",
   "pygments_lexer": "ipython3",
   "version": "3.9.19"
  }
 },
 "nbformat": 4,
 "nbformat_minor": 5
}
