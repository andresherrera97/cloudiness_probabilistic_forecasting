{
 "cells": [
  {
   "cell_type": "markdown",
   "id": "11713a1c-3054-46a2-bbfd-a399ec61ff2a",
   "metadata": {},
   "source": [
    "# Dataset Exploring"
   ]
  },
  {
   "cell_type": "code",
   "execution_count": 37,
   "id": "5171ab24-cfbd-4500-9f63-15d1f8b4ab41",
   "metadata": {},
   "outputs": [],
   "source": [
    "import os\n",
    "import json\n",
    "import random\n",
    "import numpy as np\n",
    "from tqdm import tqdm\n",
    "import matplotlib.pyplot as plt\n"
   ]
  },
  {
   "cell_type": "code",
   "execution_count": 19,
   "id": "aa0b2c3d-25c7-4273-b3f5-658549382fcf",
   "metadata": {},
   "outputs": [],
   "source": [
    "DATASET_PATH = \"../datasets/goes16/salto\"\n",
    "SUBFOLDERS = [\"train\", \"val\", \"test\"]\n"
   ]
  },
  {
   "cell_type": "code",
   "execution_count": 20,
   "id": "e2f43782-68e9-4ad1-884c-b9a1f312ca5c",
   "metadata": {},
   "outputs": [
    {
     "name": "stdout",
     "output_type": "stream",
     "text": [
      "subfolder: val\n"
     ]
    },
    {
     "name": "stderr",
     "output_type": "stream",
     "text": [
      "100%|███████████████████████████████████████████████████████████████████████████████████| 96/96 [06:55<00:00,  4.33s/it]\n"
     ]
    },
    {
     "name": "stdout",
     "output_type": "stream",
     "text": [
      "subfolder: test\n"
     ]
    },
    {
     "name": "stderr",
     "output_type": "stream",
     "text": [
      "  2%|██                                                                                 | 4/166 [00:21<14:55,  5.53s/it]"
     ]
    },
    {
     "name": "stdout",
     "output_type": "stream",
     "text": [
      "zero mean: 2022_026_UTC_203020.npy\n"
     ]
    },
    {
     "name": "stderr",
     "output_type": "stream",
     "text": [
      "  6%|████▉                                                                             | 10/166 [00:53<12:42,  4.89s/it]"
     ]
    },
    {
     "name": "stdout",
     "output_type": "stream",
     "text": [
      "zero mean: 2022_050_UTC_111522.npy\n"
     ]
    },
    {
     "name": "stderr",
     "output_type": "stream",
     "text": [
      "  8%|██████▍                                                                           | 13/166 [01:04<10:27,  4.10s/it]"
     ]
    },
    {
     "name": "stdout",
     "output_type": "stream",
     "text": [
      "zero mean: 2022_065_UTC_170020.npy\n"
     ]
    },
    {
     "name": "stderr",
     "output_type": "stream",
     "text": [
      " 19%|███████████████▎                                                                  | 31/166 [02:32<10:25,  4.63s/it]"
     ]
    },
    {
     "name": "stdout",
     "output_type": "stream",
     "text": [
      "zero mean: 2022_137_UTC_154020.npy\n"
     ]
    },
    {
     "name": "stderr",
     "output_type": "stream",
     "text": [
      " 38%|███████████████████████████████                                                   | 63/166 [04:40<06:56,  4.04s/it]"
     ]
    },
    {
     "name": "stdout",
     "output_type": "stream",
     "text": [
      "zero mean: 2022_278_UTC_162020.npy\n"
     ]
    },
    {
     "name": "stderr",
     "output_type": "stream",
     "text": [
      " 40%|█████████████████████████████████                                                 | 67/166 [04:56<06:34,  3.99s/it]"
     ]
    },
    {
     "name": "stdout",
     "output_type": "stream",
     "text": [
      "zero mean: 2022_302_UTC_104522.npy\n"
     ]
    },
    {
     "name": "stderr",
     "output_type": "stream",
     "text": [
      " 43%|███████████████████████████████████▌                                              | 72/166 [05:27<09:00,  5.75s/it]"
     ]
    },
    {
     "name": "stdout",
     "output_type": "stream",
     "text": [
      "zero mean: 2022_316_UTC_104522.npy\n"
     ]
    },
    {
     "name": "stderr",
     "output_type": "stream",
     "text": [
      " 48%|███████████████████████████████████████                                           | 79/166 [06:07<07:40,  5.29s/it]"
     ]
    },
    {
     "name": "stdout",
     "output_type": "stream",
     "text": [
      "zero mean: 2022_358_UTC_110022.npy\n"
     ]
    },
    {
     "name": "stderr",
     "output_type": "stream",
     "text": [
      " 60%|████████████████████████████████████████████████▉                                 | 99/166 [07:47<05:16,  4.73s/it]"
     ]
    },
    {
     "name": "stdout",
     "output_type": "stream",
     "text": [
      "zero mean: 2023_079_UTC_153020.npy\n"
     ]
    },
    {
     "name": "stderr",
     "output_type": "stream",
     "text": [
      " 70%|████████████████████████████████████████████████████████▌                        | 116/166 [08:46<02:28,  2.98s/it]"
     ]
    },
    {
     "name": "stdout",
     "output_type": "stream",
     "text": [
      "zero mean: 2023_150_UTC_164020.npy\n",
      "zero mean: 2023_150_UTC_165020.npy\n"
     ]
    },
    {
     "name": "stderr",
     "output_type": "stream",
     "text": [
      " 71%|█████████████████████████████████████████████████████████▌                       | 118/166 [08:53<02:40,  3.34s/it]"
     ]
    },
    {
     "name": "stdout",
     "output_type": "stream",
     "text": [
      "zero mean: 2023_156_UTC_155021.npy\n"
     ]
    },
    {
     "name": "stderr",
     "output_type": "stream",
     "text": [
      " 87%|██████████████████████████████████████████████████████████████████████▎          | 144/166 [10:26<01:53,  5.17s/it]"
     ]
    },
    {
     "name": "stdout",
     "output_type": "stream",
     "text": [
      "zero mean: 2023_269_UTC_200020.npy\n"
     ]
    },
    {
     "name": "stderr",
     "output_type": "stream",
     "text": [
      " 89%|███████████████████████████████████████████████████████████████████████▋         | 147/166 [10:40<01:31,  4.80s/it]"
     ]
    },
    {
     "name": "stdout",
     "output_type": "stream",
     "text": [
      "zero mean: 2023_291_UTC_150020.npy\n"
     ]
    },
    {
     "name": "stderr",
     "output_type": "stream",
     "text": [
      " 92%|██████████████████████████████████████████████████████████████████████████▋      | 153/166 [11:16<01:13,  5.67s/it]"
     ]
    },
    {
     "name": "stdout",
     "output_type": "stream",
     "text": [
      "zero mean: 2023_315_UTC_104522.npy\n"
     ]
    },
    {
     "name": "stderr",
     "output_type": "stream",
     "text": [
      " 96%|██████████████████████████████████████████████████████████████████████████████   | 160/166 [11:45<00:25,  4.29s/it]"
     ]
    },
    {
     "name": "stdout",
     "output_type": "stream",
     "text": [
      "zero mean: 2023_346_UTC_150020.npy\n",
      "zero mean: 2023_346_UTC_151020.npy\n"
     ]
    },
    {
     "name": "stderr",
     "output_type": "stream",
     "text": [
      " 99%|████████████████████████████████████████████████████████████████████████████████▌| 165/166 [12:07<00:04,  4.20s/it]"
     ]
    },
    {
     "name": "stdout",
     "output_type": "stream",
     "text": [
      "zero mean: 2023_359_UTC_110022.npy\n"
     ]
    },
    {
     "name": "stderr",
     "output_type": "stream",
     "text": [
      "100%|█████████████████████████████████████████████████████████████████████████████████| 166/166 [12:13<00:00,  4.42s/it]\n"
     ]
    }
   ],
   "source": [
    "zero_mean_dict = {\n",
    "    \"train\": [],\n",
    "    \"val\": [],\n",
    "    \"test\": []\n",
    "}\n",
    "\n",
    "for subfolder in SUBFOLDERS:\n",
    "    print(f\"subfolder: {subfolder}\")\n",
    "    subfolder_path = os.path.join(DATASET_PATH, subfolder)\n",
    "    days_folders = sorted(os.listdir(subfolder_path))\n",
    "    for day in tqdm(days_folders):\n",
    "        day_path = os.path.join(subfolder_path, day)\n",
    "        images = os.listdir(day_path)\n",
    "        images = sorted([image for image in images if image.endswith(\".npy\")])\n",
    "        for image in images:\n",
    "            img = np.load(os.path.join(day_path, image))\n",
    "            if np.mean(img) == 0:\n",
    "                zero_mean_dict[subfolder].append(image)\n",
    "                print(f\"zero mean: {image}\")\n"
   ]
  },
  {
   "cell_type": "code",
   "execution_count": 25,
   "id": "61a5dae4-a9b8-4c10-b541-11d963f648d3",
   "metadata": {},
   "outputs": [
    {
     "data": {
      "text/plain": [
       "{'train': ['2022_004_UTC_174020.npy',\n",
       "  '2022_007_UTC_164021.npy',\n",
       "  '2022_008_UTC_110522.npy',\n",
       "  '2022_022_UTC_111022.npy',\n",
       "  '2022_036_UTC_111522.npy',\n",
       "  '2022_066_UTC_170020.npy',\n",
       "  '2022_067_UTC_170020.npy',\n",
       "  '2022_077_UTC_153020.npy',\n",
       "  '2022_092_UTC_110521.npy',\n",
       "  '2022_116_UTC_194020.npy',\n",
       "  '2022_116_UTC_201020.npy',\n",
       "  '2022_139_UTC_180020.npy',\n",
       "  '2022_145_UTC_140020.npy',\n",
       "  '2022_260_UTC_105522.npy',\n",
       "  '2022_274_UTC_105022.npy',\n",
       "  '2022_280_UTC_164020.npy',\n",
       "  '2022_281_UTC_164020.npy',\n",
       "  '2022_282_UTC_164020.npy',\n",
       "  '2022_288_UTC_104522.npy',\n",
       "  '2022_329_UTC_104522.npy',\n",
       "  '2022_335_UTC_180020.npy',\n",
       "  '2023_007_UTC_110522.npy',\n",
       "  '2023_021_UTC_111022.npy',\n",
       "  '2023_035_UTC_111522.npy',\n",
       "  '2023_049_UTC_111522.npy',\n",
       "  '2023_064_UTC_170020.npy',\n",
       "  '2023_074_UTC_154020.npy',\n",
       "  '2023_091_UTC_110522.npy',\n",
       "  '2023_135_UTC_135020.npy',\n",
       "  '2023_254_UTC_115020.npy',\n",
       "  '2023_259_UTC_105522.npy',\n",
       "  '2023_270_UTC_112020.npy',\n",
       "  '2023_273_UTC_105023.npy',\n",
       "  '2023_301_UTC_104522.npy',\n",
       "  '2023_341_UTC_161020.npy',\n",
       "  '2023_341_UTC_191020.npy',\n",
       "  '2023_350_UTC_132020.npy'],\n",
       " 'val': ['2022_064_UTC_111022.npy',\n",
       "  '2022_064_UTC_170020.npy',\n",
       "  '2022_201_UTC_195021.npy',\n",
       "  '2022_241_UTC_163020.npy',\n",
       "  '2022_339_UTC_164020.npy',\n",
       "  '2023_063_UTC_111022.npy',\n",
       "  '2023_171_UTC_162021.npy',\n",
       "  '2023_171_UTC_192021.npy',\n",
       "  '2023_287_UTC_104522.npy',\n",
       "  '2023_287_UTC_120020.npy',\n",
       "  '2023_290_UTC_150020.npy',\n",
       "  '2023_290_UTC_151020.npy',\n",
       "  '2023_290_UTC_163020.npy'],\n",
       " 'test': ['2022_026_UTC_203020.npy',\n",
       "  '2022_050_UTC_111522.npy',\n",
       "  '2022_065_UTC_170020.npy',\n",
       "  '2022_137_UTC_154020.npy',\n",
       "  '2022_278_UTC_162020.npy',\n",
       "  '2022_302_UTC_104522.npy',\n",
       "  '2022_316_UTC_104522.npy',\n",
       "  '2022_358_UTC_110022.npy',\n",
       "  '2023_079_UTC_153020.npy',\n",
       "  '2023_150_UTC_164020.npy',\n",
       "  '2023_150_UTC_165020.npy',\n",
       "  '2023_156_UTC_155021.npy',\n",
       "  '2023_269_UTC_200020.npy',\n",
       "  '2023_291_UTC_150020.npy',\n",
       "  '2023_315_UTC_104522.npy',\n",
       "  '2023_346_UTC_150020.npy',\n",
       "  '2023_346_UTC_151020.npy',\n",
       "  '2023_359_UTC_110022.npy']}"
      ]
     },
     "execution_count": 25,
     "metadata": {},
     "output_type": "execute_result"
    }
   ],
   "source": [
    "zero_mean_dict\n"
   ]
  },
  {
   "cell_type": "code",
   "execution_count": 38,
   "id": "792271c0-c685-47d9-a3b1-3045a1344a74",
   "metadata": {},
   "outputs": [],
   "source": [
    "# Convert and write JSON object to file\n",
    "with open(\"../black_images.json\", \"w\") as outfile: \n",
    "    json.dump(zero_mean_dict, outfile)\n"
   ]
  },
  {
   "cell_type": "code",
   "execution_count": 36,
   "id": "48fb07e7-b022-455f-9bf5-84800e4216fb",
   "metadata": {},
   "outputs": [
    {
     "name": "stdout",
     "output_type": "stream",
     "text": [
      "train sample: ../datasets/goes16/salto/train/2022_092/2022_092_UTC_110521.npy\n"
     ]
    },
    {
     "data": {
      "image/png": "[encoded data removed]",
      "text/plain": [
       "<Figure size 640x480 with 1 Axes>"
      ]
     },
     "metadata": {},
     "output_type": "display_data"
    },
    {
     "name": "stdout",
     "output_type": "stream",
     "text": [
      "val sample: ../datasets/goes16/salto/val/2023_171/2023_171_UTC_162021.npy\n"
     ]
    },
    {
     "data": {
      "image/png": "[encoded data removed]",
      "text/plain": [
       "<Figure size 640x480 with 1 Axes>"
      ]
     },
     "metadata": {},
     "output_type": "display_data"
    },
    {
     "name": "stdout",
     "output_type": "stream",
     "text": [
      "test sample: ../datasets/goes16/salto/test/2022_278/2022_278_UTC_162020.npy\n"
     ]
    },
    {
     "data": {
      "image/png": "[encoded data removed]",
      "text/plain": [
       "<Figure size 640x480 with 1 Axes>"
      ]
     },
     "metadata": {},
     "output_type": "display_data"
    }
   ],
   "source": [
    "train_sample = random.sample(zero_mean_dict[\"train\"], 1)[0]\n",
    "val_sample = random.sample(zero_mean_dict[\"val\"], 1)[0]\n",
    "test_sample = random.sample(zero_mean_dict[\"test\"], 1)[0]\n",
    "\n",
    "train_sample = os.path.join(\n",
    "    \"../datasets/goes16/salto/train/\",\n",
    "    \"_\".join(train_sample.split(\"_\")[:2]),\n",
    "    train_sample\n",
    ")\n",
    "\n",
    "val_sample = os.path.join(\n",
    "    \"../datasets/goes16/salto/val/\",\n",
    "    \"_\".join(val_sample.split(\"_\")[:2]),\n",
    "    val_sample\n",
    ")\n",
    "\n",
    "test_sample = os.path.join(\n",
    "    \"../datasets/goes16/salto/test/\",\n",
    "    \"_\".join(test_sample.split(\"_\")[:2]),\n",
    "    test_sample\n",
    ")\n",
    "\n",
    "print(f\"train sample: {train_sample}\")\n",
    "plt.imshow(np.load(train_sample))\n",
    "plt.show()\n",
    "\n",
    "print(f\"val sample: {val_sample}\")\n",
    "plt.imshow(np.load(val_sample))\n",
    "plt.show()\n",
    "\n",
    "print(f\"test sample: {test_sample}\")\n",
    "plt.imshow(np.load(test_sample))\n",
    "plt.show()\n"
   ]
  },
  {
   "cell_type": "markdown",
   "id": "cbbe8f3c-3438-423f-be9b-2cb02218bb91",
   "metadata": {},
   "source": [
    "{'train': ['2022_004_UTC_174020.npy',\n",
    "  '2022_007_UTC_164021.npy',\n",
    "  '2022_008_UTC_110522.npy',\n",
    "  '2022_022_UTC_111022.npy',\n",
    "  '2022_036_UTC_111522.npy',\n",
    "  '2022_066_UTC_170020.npy',\n",
    "  '2022_067_UTC_170020.npy',\n",
    "  '2022_077_UTC_153020.npy',\n",
    "  '2022_092_UTC_110521.npy',\n",
    "  '2022_116_UTC_194020.npy',\n",
    "  '2022_116_UTC_201020.npy',\n",
    "  '2022_139_UTC_180020.npy',\n",
    "  '2022_145_UTC_140020.npy',\n",
    "  '2022_260_UTC_105522.npy',\n",
    "  '2022_274_UTC_105022.npy',\n",
    "  '2022_280_UTC_164020.npy',\n",
    "  '2022_281_UTC_164020.npy',\n",
    "  '2022_282_UTC_164020.npy',\n",
    "  '2022_288_UTC_104522.npy',\n",
    "  '2022_329_UTC_104522.npy',\n",
    "  '2022_335_UTC_180020.npy',\n",
    "  '2023_007_UTC_110522.npy',\n",
    "  '2023_021_UTC_111022.npy',\n",
    "  '2023_035_UTC_111522.npy',\n",
    "  '2023_049_UTC_111522.npy',\n",
    "  '2023_064_UTC_170020.npy',\n",
    "  '2023_074_UTC_154020.npy',\n",
    "  '2023_091_UTC_110522.npy',\n",
    "  '2023_135_UTC_135020.npy',\n",
    "  '2023_254_UTC_115020.npy',\n",
    "  '2023_259_UTC_105522.npy',\n",
    "  '2023_270_UTC_112020.npy',\n",
    "  '2023_273_UTC_105023.npy',\n",
    "  '2023_301_UTC_104522.npy',\n",
    "  '2023_341_UTC_161020.npy',\n",
    "  '2023_341_UTC_191020.npy',\n",
    "  '2023_350_UTC_132020.npy'],\n",
    " 'val': ['2022_064_UTC_111022.npy',\n",
    "  '2022_064_UTC_170020.npy',\n",
    "  '2022_201_UTC_195021.npy',\n",
    "  '2022_241_UTC_163020.npy',\n",
    "  '2022_339_UTC_164020.npy',\n",
    "  '2023_063_UTC_111022.npy',\n",
    "  '2023_171_UTC_162021.npy',\n",
    "  '2023_171_UTC_192021.npy',\n",
    "  '2023_287_UTC_104522.npy',\n",
    "  '2023_287_UTC_120020.npy',\n",
    "  '2023_290_UTC_150020.npy',\n",
    "  '2023_290_UTC_151020.npy',\n",
    "  '2023_290_UTC_163020.npy'],\n",
    " 'test': ['2022_026_UTC_203020.npy',\n",
    "  '2022_050_UTC_111522.npy',\n",
    "  '2022_065_UTC_170020.npy',\n",
    "  '2022_137_UTC_154020.npy',\n",
    "  '2022_278_UTC_162020.npy',\n",
    "  '2022_302_UTC_104522.npy',\n",
    "  '2022_316_UTC_104522.npy',\n",
    "  '2022_358_UTC_110022.npy',\n",
    "  '2023_079_UTC_153020.npy',\n",
    "  '2023_150_UTC_164020.npy',\n",
    "  '2023_150_UTC_165020.npy',\n",
    "  '2023_156_UTC_155021.npy',\n",
    "  '2023_269_UTC_200020.npy',\n",
    "  '2023_291_UTC_150020.npy',\n",
    "  '2023_315_UTC_104522.npy',\n",
    "  '2023_346_UTC_150020.npy',\n",
    "  '2023_346_UTC_151020.npy',\n",
    "  '2023_359_UTC_110022.npy']}"
   ]
  }
 ],
 "metadata": {
  "kernelspec": {
   "display_name": "Python 3 (ipykernel)",
   "language": "python",
   "name": "python3"
  },
  "language_info": {
   "codemirror_mode": {
    "name": "ipython",
    "version": 3
   },
   "file_extension": ".py",
   "mimetype": "text/x-python",
   "name": "python",
   "nbconvert_exporter": "python",
   "pygments_lexer": "ipython3",
   "version": "3.9.19"
  }
 },
 "nbformat": 4,
 "nbformat_minor": 5
}
